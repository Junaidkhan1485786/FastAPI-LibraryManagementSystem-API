{
  "nbformat": 4,
  "nbformat_minor": 0,
  "metadata": {
    "colab": {
      "provenance": [],
      "authorship_tag": "ABX9TyOa73KruHE0+wG6aVizQBAS",
      "include_colab_link": true
    },
    "kernelspec": {
      "name": "python3",
      "display_name": "Python 3"
    },
    "language_info": {
      "name": "python"
    }
  },
  "cells": [
    {
      "cell_type": "markdown",
      "metadata": {
        "id": "view-in-github",
        "colab_type": "text"
      },
      "source": [
        "<a href=\"https://colab.research.google.com/github/Junaidkhan1485786/FastAPI-LibraryManagementSystem-API/blob/main/pincone_by_junaid.ipynb\" target=\"_parent\"><img src=\"https://colab.research.google.com/assets/colab-badge.svg\" alt=\"Open In Colab\"/></a>"
      ]
    },
    {
      "cell_type": "code",
      "source": [
        "pip install pinecone-client"
      ],
      "metadata": {
        "colab": {
          "base_uri": "https://localhost:8080/"
        },
        "id": "2LrvFNawcNtm",
        "outputId": "f6070665-5c98-4e7d-a8df-324b71e66591"
      },
      "execution_count": 12,
      "outputs": [
        {
          "output_type": "stream",
          "name": "stdout",
          "text": [
            "Requirement already satisfied: pinecone-client in /usr/local/lib/python3.10/dist-packages (5.0.1)\n",
            "Requirement already satisfied: certifi>=2019.11.17 in /usr/local/lib/python3.10/dist-packages (from pinecone-client) (2024.7.4)\n",
            "Requirement already satisfied: pinecone-plugin-inference<2.0.0,>=1.0.3 in /usr/local/lib/python3.10/dist-packages (from pinecone-client) (1.0.3)\n",
            "Requirement already satisfied: pinecone-plugin-interface<0.0.8,>=0.0.7 in /usr/local/lib/python3.10/dist-packages (from pinecone-client) (0.0.7)\n",
            "Requirement already satisfied: tqdm>=4.64.1 in /usr/local/lib/python3.10/dist-packages (from pinecone-client) (4.66.4)\n",
            "Requirement already satisfied: typing-extensions>=3.7.4 in /usr/local/lib/python3.10/dist-packages (from pinecone-client) (4.12.2)\n",
            "Requirement already satisfied: urllib3>=1.26.0 in /usr/local/lib/python3.10/dist-packages (from pinecone-client) (2.0.7)\n"
          ]
        }
      ]
    },
    {
      "cell_type": "code",
      "source": [
        "from pinecone import Pinecone, ServerlessSpec\n",
        "\n",
        "pc = Pinecone(api_key=\"*************************************\")"
      ],
      "metadata": {
        "id": "1ykJwP2GceKv"
      },
      "execution_count": 13,
      "outputs": []
    },
    {
      "cell_type": "code",
      "source": [
        "index_name = \"docs-quickstart-index\"\n",
        "\n",
        "if index_name not in pc.list_indexes().names():\n",
        "    pc.create_index(\n",
        "        name=index_name,\n",
        "        dimension=2,\n",
        "        metric=\"cosine\",\n",
        "        spec=ServerlessSpec(\n",
        "            cloud='aws',\n",
        "            region='us-east-1'\n",
        "        )\n",
        "    )\n"
      ],
      "metadata": {
        "id": "d55XMUldcgBH"
      },
      "execution_count": 15,
      "outputs": []
    },
    {
      "cell_type": "code",
      "source": [
        "index = pc.Index(index_name)\n",
        "\n",
        "index.upsert(\n",
        "    vectors=[\n",
        "        {\"id\": \"vec1\", \"values\": [1.0, 1.5]},\n",
        "        {\"id\": \"vec2\", \"values\": [2.0, 1.0]},\n",
        "        {\"id\": \"vec3\", \"values\": [0.1, 3.0]},\n",
        "    ],\n",
        "    namespace=\"ns1\"\n",
        ")\n",
        "\n",
        "index.upsert(\n",
        "    vectors=[\n",
        "        {\"id\": \"vec1\", \"values\": [1.0, -2.5]},\n",
        "        {\"id\": \"vec2\", \"values\": [3.0, -2.0]},\n",
        "        {\"id\": \"vec3\", \"values\": [0.5, -1.5]},\n",
        "    ],\n",
        "    namespace=\"ns2\"\n",
        ")\n"
      ],
      "metadata": {
        "colab": {
          "base_uri": "https://localhost:8080/"
        },
        "id": "BBljkI4wcwzd",
        "outputId": "9b13f2df-2a69-448b-83fa-31269bec33d2"
      },
      "execution_count": 16,
      "outputs": [
        {
          "output_type": "execute_result",
          "data": {
            "text/plain": [
              "{'upserted_count': 3}"
            ]
          },
          "metadata": {},
          "execution_count": 16
        }
      ]
    },
    {
      "cell_type": "code",
      "source": [
        "print(index.describe_index_stats())"
      ],
      "metadata": {
        "colab": {
          "base_uri": "https://localhost:8080/"
        },
        "id": "qLH3bs-peBoi",
        "outputId": "cb3f9436-9aef-48dd-ca3e-2c2c9ddfe749"
      },
      "execution_count": 17,
      "outputs": [
        {
          "output_type": "stream",
          "name": "stdout",
          "text": [
            "{'dimension': 2,\n",
            " 'index_fullness': 0.0,\n",
            " 'namespaces': {'ns1': {'vector_count': 3}, 'ns2': {'vector_count': 3}},\n",
            " 'total_vector_count': 6}\n"
          ]
        }
      ]
    },
    {
      "cell_type": "code",
      "source": [
        "query_results1 = index.query(\n",
        "    namespace=\"ns1\",\n",
        "    vector=[1.0, 1.5],\n",
        "    top_k=3,\n",
        "    include_values=True\n",
        ")\n",
        "\n",
        "print(query_results1)"
      ],
      "metadata": {
        "colab": {
          "base_uri": "https://localhost:8080/"
        },
        "id": "KC1whUheezGA",
        "outputId": "cbe744bf-cc22-491d-f242-aba6d527172a"
      },
      "execution_count": 18,
      "outputs": [
        {
          "output_type": "stream",
          "name": "stdout",
          "text": [
            "{'matches': [{'id': 'vec1', 'score': 1.0, 'values': [1.0, 1.5]},\n",
            "             {'id': 'vec2', 'score': 0.868243158, 'values': [2.0, 1.0]},\n",
            "             {'id': 'vec3', 'score': 0.850068152, 'values': [0.1, 3.0]}],\n",
            " 'namespace': 'ns1',\n",
            " 'usage': {'read_units': 6}}\n"
          ]
        }
      ]
    },
    {
      "cell_type": "code",
      "source": [
        "query_results2 = index.query(\n",
        "    namespace=\"ns2\",\n",
        "    vector=[1.0,-2.5],\n",
        "    top_k=3,\n",
        "    include_values=True\n",
        ")\n",
        "\n",
        "print(query_results2)"
      ],
      "metadata": {
        "colab": {
          "base_uri": "https://localhost:8080/"
        },
        "id": "1fR4qXb2gmFD",
        "outputId": "bd05e22e-d049-4d71-c070-ba669b2b3f59"
      },
      "execution_count": 19,
      "outputs": [
        {
          "output_type": "stream",
          "name": "stdout",
          "text": [
            "{'matches': [{'id': 'vec1', 'score': 1.00108826, 'values': [1.0, -2.5]},\n",
            "             {'id': 'vec3', 'score': 0.997808337, 'values': [0.5, -1.5]},\n",
            "             {'id': 'vec2', 'score': 0.827286243, 'values': [3.0, -2.0]}],\n",
            " 'namespace': 'ns2',\n",
            " 'usage': {'read_units': 6}}\n"
          ]
        }
      ]
    },
    {
      "cell_type": "code",
      "source": [
        "# pc.delete_index(index_name)   After you delete an index, you cannot use it again or recover it."
      ],
      "metadata": {
        "id": "S_pclbbrg2xZ"
      },
      "execution_count": 23,
      "outputs": []
    }
  ]
}